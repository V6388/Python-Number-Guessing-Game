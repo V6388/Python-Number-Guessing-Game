{
  "nbformat": 4,
  "nbformat_minor": 0,
  "metadata": {
    "colab": {
      "name": "automated python,guess the no.",
      "provenance": [],
      "collapsed_sections": [],
      "authorship_tag": "ABX9TyN7hSLKxnaCN7/fEpAlxxw6",
      "include_colab_link": true
    },
    "kernelspec": {
      "name": "python3",
      "display_name": "Python 3"
    }
  },
  "cells": [
    {
      "cell_type": "markdown",
      "metadata": {
        "id": "view-in-github",
        "colab_type": "text"
      },
      "source": [
        "<a href=\"https://colab.research.google.com/github/V6388/Python-Number-Guessing-Game/blob/main/automated_python%2Cguess_the_no_.ipynb\" target=\"_parent\"><img src=\"https://colab.research.google.com/assets/colab-badge.svg\" alt=\"Open In Colab\"/></a>"
      ]
    },
    {
      "cell_type": "code",
      "metadata": {
        "id": "_RcaDpLckXcx"
      },
      "source": [
        "import random"
      ],
      "execution_count": null,
      "outputs": []
    },
    {
      "cell_type": "code",
      "metadata": {
        "colab": {
          "base_uri": "https://localhost:8080/"
        },
        "id": "WTxBY4qcknCV",
        "outputId": "b74d0765-c242-4759-ebac-c7d084746f1b"
      },
      "source": [
        "print('hello.what is your name?')\r\n",
        "name=input()\r\n",
        "print('Well,'+name+',I am  Thinking a number between 1 and 20.')\r\n",
        "secretNumber=random.randint(1,20)\r\n",
        "for guessTaken in range(1,7):\r\n",
        "  print('take a guess.')\r\n",
        "  guess=int(input())\r\n",
        "  if guess <secretNumber:\r\n",
        "    print('your guess is too low.')\r\n",
        "  elif guess >secretNumber:\r\n",
        "    print('the guess is too high.')\r\n",
        "  else:\r\n",
        "    break\r\n",
        "if guess==secretNumber:\r\n",
        "  print('good job,'+name+'!you guessed my number' +str(guessTaken)+ 'guesses')\r\n",
        "else:\r\n",
        "  print('Nope.the number I was thinking of was'+str(secretNumber))"
      ],
      "execution_count": null,
      "outputs": [
        {
          "output_type": "stream",
          "text": [
            "hello.what is your name?\n",
            "vipin\n",
            "Well,vipin,I am  Thinking a number between 1 and 20.\n",
            "take a guess.\n",
            "6\n",
            "your guess is too low.\n",
            "take a guess.\n",
            "9\n",
            "your guess is too low.\n",
            "take a guess.\n",
            "12\n",
            "your guess is too low.\n",
            "take a guess.\n",
            "15\n",
            "your guess is too low.\n",
            "take a guess.\n",
            "17\n",
            "the guess is too high.\n",
            "take a guess.\n",
            "16\n",
            "good job,vipin!you guessed my number6guesses\n"
          ],
          "name": "stdout"
        }
      ]
    },
    {
      "cell_type": "code",
      "metadata": {
        "id": "neGudaV5omhB"
      },
      "source": [
        ""
      ],
      "execution_count": null,
      "outputs": []
    }
  ]
}